{
 "cells": [
  {
   "cell_type": "code",
   "execution_count": 13,
   "id": "2e9a5f0c",
   "metadata": {},
   "outputs": [],
   "source": [
    "import pandas as pd\n",
    "url= 'https://raw.githubusercontent.com/haithamabbas1/Data-Assigment/main/datafile.csv'\n",
    "df= pd.read_csv(url) "
   ]
  },
  {
   "cell_type": "code",
   "execution_count": 14,
   "id": "62410696",
   "metadata": {
    "scrolled": true
   },
   "outputs": [
    {
     "name": "stdout",
     "output_type": "stream",
     "text": [
      "<class 'pandas.core.frame.DataFrame'>\n",
      "RangeIndex: 1001 entries, 0 to 1000\n",
      "Data columns (total 5 columns):\n",
      " #   Column  Non-Null Count  Dtype  \n",
      "---  ------  --------------  -----  \n",
      " 0   PG      1001 non-null   int64  \n",
      " 1   PGC     1001 non-null   int64  \n",
      " 2   LOT     1001 non-null   int64  \n",
      " 3   PD      999 non-null    float64\n",
      " 4   WF      1001 non-null   int64  \n",
      "dtypes: float64(1), int64(4)\n",
      "memory usage: 39.2 KB\n"
     ]
    }
   ],
   "source": [
    "df.info() #having a flaot will cause and added .0 while exporting, its better to stick to a convention"
   ]
  },
  {
   "cell_type": "code",
   "execution_count": 15,
   "id": "aba36a6a",
   "metadata": {},
   "outputs": [
    {
     "data": {
      "text/html": [
       "<div>\n",
       "<style scoped>\n",
       "    .dataframe tbody tr th:only-of-type {\n",
       "        vertical-align: middle;\n",
       "    }\n",
       "\n",
       "    .dataframe tbody tr th {\n",
       "        vertical-align: top;\n",
       "    }\n",
       "\n",
       "    .dataframe thead th {\n",
       "        text-align: right;\n",
       "    }\n",
       "</style>\n",
       "<table border=\"1\" class=\"dataframe\">\n",
       "  <thead>\n",
       "    <tr style=\"text-align: right;\">\n",
       "      <th></th>\n",
       "      <th>PG</th>\n",
       "      <th>PGC</th>\n",
       "      <th>LOT</th>\n",
       "      <th>PD</th>\n",
       "      <th>WF</th>\n",
       "    </tr>\n",
       "  </thead>\n",
       "  <tbody>\n",
       "    <tr>\n",
       "      <th>0</th>\n",
       "      <td>9</td>\n",
       "      <td>5</td>\n",
       "      <td>224259</td>\n",
       "      <td>8.0</td>\n",
       "      <td>3066398</td>\n",
       "    </tr>\n",
       "    <tr>\n",
       "      <th>1</th>\n",
       "      <td>9</td>\n",
       "      <td>5</td>\n",
       "      <td>224259</td>\n",
       "      <td>NaN</td>\n",
       "      <td>3066398</td>\n",
       "    </tr>\n",
       "    <tr>\n",
       "      <th>2</th>\n",
       "      <td>10</td>\n",
       "      <td>5</td>\n",
       "      <td>257571</td>\n",
       "      <td>6.0</td>\n",
       "      <td>3818899</td>\n",
       "    </tr>\n",
       "    <tr>\n",
       "      <th>3</th>\n",
       "      <td>10</td>\n",
       "      <td>5</td>\n",
       "      <td>6</td>\n",
       "      <td>6.0</td>\n",
       "      <td>7550</td>\n",
       "    </tr>\n",
       "    <tr>\n",
       "      <th>4</th>\n",
       "      <td>10</td>\n",
       "      <td>5</td>\n",
       "      <td>6</td>\n",
       "      <td>6.0</td>\n",
       "      <td>530</td>\n",
       "    </tr>\n",
       "  </tbody>\n",
       "</table>\n",
       "</div>"
      ],
      "text/plain": [
       "   PG  PGC     LOT   PD       WF\n",
       "0   9    5  224259  8.0  3066398\n",
       "1   9    5  224259  NaN  3066398\n",
       "2  10    5  257571  6.0  3818899\n",
       "3  10    5       6  6.0     7550\n",
       "4  10    5       6  6.0      530"
      ]
     },
     "execution_count": 15,
     "metadata": {},
     "output_type": "execute_result"
    }
   ],
   "source": [
    "df.head()"
   ]
  },
  {
   "cell_type": "code",
   "execution_count": 18,
   "id": "f2de9aa2",
   "metadata": {},
   "outputs": [],
   "source": [
    "def Assignment(Dataframe, Column): #function that takes 2 arguments, the dataframe name and the number of the column\n",
    "    Dataframe.dropna(how=\"all\", inplace=True) # this step is unnecessary since pandas doesnt include rows with\n",
    "                                              #entirley no data\n",
    "    Dataframe.fillna(\"NA\", inplace=True) #fills null values with string \"NA\"\n",
    "    Dataframe.drop_duplicates(inplace=True) #drop duplicates\n",
    "    dfU=Dataframe.iloc[:,Column].unique() #create and array with all the unique values in a given column \n",
    "                                          #to slice based on the value of the column\n",
    "    for i in dfU:\n",
    "        if i != \"NA\" :\n",
    "            SlicedFrame=Dataframe.loc[Dataframe.iloc[:,Column] == i]\n",
    "            filename = r'Assignment_{}.csv'.format(int(i))\n",
    "            #The format was added to handle the column PD which is type Float, there will be an extra .0 added which doesnt meet the standrad of the convention\n",
    "            SlicedFrame.to_csv(filename, index=False)\n",
    "        else :\n",
    "            SlicedFrame=Dataframe.loc[Dataframe.iloc[:,Column] == i]\n",
    "            filename = r'Assignment_NA.csv'\n",
    "            SlicedFrame.to_csv(filename, index=False)\n",
    "\n"
   ]
  },
  {
   "cell_type": "code",
   "execution_count": 19,
   "id": "9f03f43a",
   "metadata": {},
   "outputs": [],
   "source": [
    "Assignment(df,3) #in this example I took dataframe df and the first column, 7 files where imported"
   ]
  },
  {
   "cell_type": "markdown",
   "id": "bddaa669",
   "metadata": {},
   "source": [
    "# to double check the work we can use nunique, since the number of imported files should equal the unique values"
   ]
  },
  {
   "cell_type": "code",
   "execution_count": 20,
   "id": "19f4a057",
   "metadata": {},
   "outputs": [],
   "source": [
    "def DoubleCheck(Dataframe, Column):    \n",
    "    df_new=Dataframe.copy()\n",
    "    Dataframe.fillna(\"NA\", inplace=True) #fills null values with string \"NA\"\n",
    "    Dataframe.drop_duplicates(inplace=True) #drop duplicates\n",
    "    UniqueCount=df_new.iloc[:,Column].nunique()\n",
    "    print(f'the number of documents downloaded to the location should be {UniqueCount}')"
   ]
  },
  {
   "cell_type": "code",
   "execution_count": 21,
   "id": "b09a548c",
   "metadata": {},
   "outputs": [
    {
     "name": "stdout",
     "output_type": "stream",
     "text": [
      "the number of documents downloaded to the location should be 202\n"
     ]
    }
   ],
   "source": [
    "DoubleCheck(df,3) "
   ]
  },
  {
   "cell_type": "code",
   "execution_count": null,
   "id": "fbf71a32",
   "metadata": {},
   "outputs": [],
   "source": []
  }
 ],
 "metadata": {
  "kernelspec": {
   "display_name": "Python 3 (ipykernel)",
   "language": "python",
   "name": "python3"
  },
  "language_info": {
   "codemirror_mode": {
    "name": "ipython",
    "version": 3
   },
   "file_extension": ".py",
   "mimetype": "text/x-python",
   "name": "python",
   "nbconvert_exporter": "python",
   "pygments_lexer": "ipython3",
   "version": "3.10.4"
  }
 },
 "nbformat": 4,
 "nbformat_minor": 5
}
